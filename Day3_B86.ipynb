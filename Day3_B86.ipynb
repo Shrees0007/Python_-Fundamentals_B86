{
 "cells": [
  {
   "cell_type": "code",
   "execution_count": null,
   "id": "60e5cab6-18b4-43f0-bbb4-3298fa6f6ec2",
   "metadata": {},
   "outputs": [],
   "source": [
    "Continues With String "
   ]
  },
  {
   "cell_type": "code",
   "execution_count": null,
   "id": "133a7b03-7c58-4be2-b55c-25b444858578",
   "metadata": {},
   "outputs": [],
   "source": []
  },
  {
   "cell_type": "code",
   "execution_count": null,
   "id": "325a46f3-7f53-4cd7-b55d-96744027f1b2",
   "metadata": {},
   "outputs": [],
   "source": [
    "understanding the concept of f Strings :"
   ]
  },
  {
   "cell_type": "code",
   "execution_count": null,
   "id": "864c7ef2-1d99-4e28-88eb-802a17d86375",
   "metadata": {},
   "outputs": [],
   "source": [
    "# general syntax of f String"
   ]
  },
  {
   "cell_type": "code",
   "execution_count": null,
   "id": "183d8356-fe87-44be-a748-51be2e82a87a",
   "metadata": {},
   "outputs": [],
   "source": [
    "f\"custom message {placeholder-1} {placeholder-2}.........{placeholder-N}\""
   ]
  },
  {
   "cell_type": "code",
   "execution_count": null,
   "id": "97a10146-9435-4b85-b2df-39024206e812",
   "metadata": {},
   "outputs": [],
   "source": []
  },
  {
   "cell_type": "code",
   "execution_count": 1,
   "id": "a835eeac-7ce9-492a-82a1-4a259275386c",
   "metadata": {},
   "outputs": [],
   "source": [
    "firstname = \"Ganesh\"\n",
    "lastname= \"Kumar\""
   ]
  },
  {
   "cell_type": "code",
   "execution_count": null,
   "id": "1622f6de-9e72-464f-ae08-b7266126abb9",
   "metadata": {},
   "outputs": [],
   "source": [
    "# req: i want to get the full name....?"
   ]
  },
  {
   "cell_type": "code",
   "execution_count": 2,
   "id": "332bb224-ba13-4491-aa48-21f8185c31d0",
   "metadata": {},
   "outputs": [
    {
     "name": "stdout",
     "output_type": "stream",
     "text": [
      "Ganesh Kumar\n"
     ]
    }
   ],
   "source": [
    "fullname = f\"{firstname} {lastname}\"\n",
    "print(fullname)"
   ]
  },
  {
   "cell_type": "code",
   "execution_count": 3,
   "id": "f4c45f3b-c30b-469e-92cc-0e2a7f8cccab",
   "metadata": {},
   "outputs": [
    {
     "name": "stdout",
     "output_type": "stream",
     "text": [
      "Ganesh Kumar\n"
     ]
    }
   ],
   "source": [
    "print(fullname.title())"
   ]
  },
  {
   "cell_type": "code",
   "execution_count": 8,
   "id": "5eadfd63-8605-4d50-96d9-a5361d723eba",
   "metadata": {},
   "outputs": [
    {
     "name": "stdout",
     "output_type": "stream",
     "text": [
      "keep up the good work, Ganesh Kumar\n"
     ]
    }
   ],
   "source": [
    "message = f\"keep up the good work, {fullname.title()}\"\n",
    "\n",
    "print(message)"
   ]
  },
  {
   "cell_type": "code",
   "execution_count": null,
   "id": "705509bb-bdd4-4a31-8661-d9402448cc3d",
   "metadata": {},
   "outputs": [],
   "source": []
  },
  {
   "cell_type": "code",
   "execution_count": null,
   "id": "80752a2f-3d0b-4eb6-803e-e81d95e1715c",
   "metadata": {},
   "outputs": [],
   "source": [
    "adding white spaces to String"
   ]
  },
  {
   "cell_type": "code",
   "execution_count": 9,
   "id": "f6a5f136-365f-49d4-b1fc-7eb38db02c49",
   "metadata": {},
   "outputs": [
    {
     "name": "stdout",
     "output_type": "stream",
     "text": [
      "fav_prog_langage:javapythoncc++swiftc\n"
     ]
    }
   ],
   "source": [
    "print(\"fav_prog_langage:javapythoncc++swiftc\")"
   ]
  },
  {
   "cell_type": "code",
   "execution_count": 12,
   "id": "357ab971-ffeb-41e9-9ab7-8283aa1b597f",
   "metadata": {},
   "outputs": [
    {
     "name": "stdout",
     "output_type": "stream",
     "text": [
      "fav_prog_langage:\n",
      "java\n",
      "python\n",
      "c\n",
      "c++\n",
      "swiftc\n"
     ]
    }
   ],
   "source": [
    "print(\"fav_prog_langage:\\njava\\npython\\nc\\nc++\\nswiftc\")"
   ]
  },
  {
   "cell_type": "code",
   "execution_count": null,
   "id": "6fd3ba0b-d90a-47c2-984a-40136f32400b",
   "metadata": {},
   "outputs": [],
   "source": [
    "#\\n----> new line delimiter"
   ]
  },
  {
   "cell_type": "code",
   "execution_count": null,
   "id": "ec3259d9-89de-4cc0-87b9-b4e18fe9831d",
   "metadata": {},
   "outputs": [],
   "source": []
  },
  {
   "cell_type": "code",
   "execution_count": 16,
   "id": "3210be7d-461f-417d-9ce1-2d0d34110198",
   "metadata": {},
   "outputs": [
    {
     "name": "stdout",
     "output_type": "stream",
     "text": [
      "fav_prog_langage:\n",
      "\tjava\n",
      "\tpython\n",
      "\tc\n",
      "\tc++\n",
      "\tswiftc\n"
     ]
    }
   ],
   "source": [
    "print(\"fav_prog_langage:\\n\\tjava\\n\\tpython\\n\\tc\\n\\tc++\\n\\tswiftc\")"
   ]
  },
  {
   "cell_type": "code",
   "execution_count": null,
   "id": "66b5cda9-e388-4acb-b009-25bf7b93d209",
   "metadata": {},
   "outputs": [],
   "source": [
    "# \\t ----->tab ddelimiter"
   ]
  },
  {
   "cell_type": "code",
   "execution_count": null,
   "id": "6bd209e7-3b83-4aa4-b0c9-951e10b3bf8f",
   "metadata": {},
   "outputs": [],
   "source": []
  },
  {
   "cell_type": "code",
   "execution_count": null,
   "id": "c9ebaca8-bcea-499c-9256-f95a81ddbffb",
   "metadata": {},
   "outputs": [],
   "source": [
    "removing white spaces from Strings:"
   ]
  },
  {
   "cell_type": "code",
   "execution_count": 18,
   "id": "3c048c38-aeaa-4027-8a9e-3e07a93967f0",
   "metadata": {},
   "outputs": [
    {
     "name": "stdout",
     "output_type": "stream",
     "text": [
      "   python\n"
     ]
    }
   ],
   "source": [
    "name = \"   python\"\n",
    "\n",
    "print(name)"
   ]
  },
  {
   "cell_type": "code",
   "execution_count": null,
   "id": "6f9708fd-1041-4d5f-a669-b8b04ca2792b",
   "metadata": {},
   "outputs": [],
   "source": []
  },
  {
   "cell_type": "code",
   "execution_count": 19,
   "id": "d97c3f98-ded4-43a3-a4bb-e0dd49a70270",
   "metadata": {},
   "outputs": [
    {
     "name": "stdout",
     "output_type": "stream",
     "text": [
      "python   \n"
     ]
    }
   ],
   "source": [
    "name1 = \"python   \"\n",
    "\n",
    "print(name1)"
   ]
  },
  {
   "cell_type": "code",
   "execution_count": null,
   "id": "2a7c0e3c-91e8-46f4-8395-0219162382bd",
   "metadata": {},
   "outputs": [],
   "source": []
  },
  {
   "cell_type": "code",
   "execution_count": 20,
   "id": "52838a77-9c55-44bd-9cb8-2b8b3a965c14",
   "metadata": {},
   "outputs": [
    {
     "name": "stdout",
     "output_type": "stream",
     "text": [
      "python\n"
     ]
    }
   ],
   "source": [
    "name2 = \"python\"\n",
    "\n",
    "print(name2)"
   ]
  },
  {
   "cell_type": "code",
   "execution_count": null,
   "id": "8b44d253-fd9b-4ab9-a25d-5e268f3c28bc",
   "metadata": {},
   "outputs": [],
   "source": []
  },
  {
   "cell_type": "code",
   "execution_count": 21,
   "id": "69c7e027-adea-48a8-b6b7-e4e679ff853d",
   "metadata": {},
   "outputs": [
    {
     "data": {
      "text/plain": [
       "'python'"
      ]
     },
     "execution_count": 21,
     "metadata": {},
     "output_type": "execute_result"
    }
   ],
   "source": [
    "name.lstrip()"
   ]
  },
  {
   "cell_type": "code",
   "execution_count": 22,
   "id": "8749d257-9024-4240-83e6-27f9a462d707",
   "metadata": {},
   "outputs": [
    {
     "data": {
      "text/plain": [
       "'python'"
      ]
     },
     "execution_count": 22,
     "metadata": {},
     "output_type": "execute_result"
    }
   ],
   "source": [
    "name1.rstrip()"
   ]
  },
  {
   "cell_type": "code",
   "execution_count": 23,
   "id": "055d0a32-7b4d-44c8-8e80-89cc60c5ec97",
   "metadata": {},
   "outputs": [
    {
     "name": "stdout",
     "output_type": "stream",
     "text": [
      "   python  \n"
     ]
    }
   ],
   "source": [
    "name3 = \"   python  \"\n",
    "\n",
    "print(name3)"
   ]
  },
  {
   "cell_type": "code",
   "execution_count": 24,
   "id": "7ee33dfb-d2b9-4a8e-8819-a6920c7a4208",
   "metadata": {},
   "outputs": [
    {
     "data": {
      "text/plain": [
       "'python'"
      ]
     },
     "execution_count": 24,
     "metadata": {},
     "output_type": "execute_result"
    }
   ],
   "source": [
    "name3.strip()"
   ]
  },
  {
   "cell_type": "code",
   "execution_count": null,
   "id": "7ca2db90-b475-4afd-9216-508c60d26756",
   "metadata": {},
   "outputs": [],
   "source": []
  }
 ],
 "metadata": {
  "kernelspec": {
   "display_name": "Python 3 (ipykernel)",
   "language": "python",
   "name": "python3"
  },
  "language_info": {
   "codemirror_mode": {
    "name": "ipython",
    "version": 3
   },
   "file_extension": ".py",
   "mimetype": "text/x-python",
   "name": "python",
   "nbconvert_exporter": "python",
   "pygments_lexer": "ipython3",
   "version": "3.11.7"
  }
 },
 "nbformat": 4,
 "nbformat_minor": 5
}
