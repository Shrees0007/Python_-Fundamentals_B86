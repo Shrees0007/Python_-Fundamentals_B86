{
 "cells": [
  {
   "cell_type": "code",
   "execution_count": null,
   "id": "aed489e1-97ea-4912-93fd-5256b04a556c",
   "metadata": {},
   "outputs": [],
   "source": [
    "Introduction to Python "
   ]
  },
  {
   "cell_type": "code",
   "execution_count": null,
   "id": "8e1a67c1-bc5e-4c85-9653-dc22c27f1811",
   "metadata": {},
   "outputs": [],
   "source": [
    "Rules for Declaring Variables "
   ]
  },
  {
   "cell_type": "code",
   "execution_count": 4,
   "id": "571acab8-1931-4f3a-988d-e89aecb3bf07",
   "metadata": {},
   "outputs": [
    {
     "name": "stdout",
     "output_type": "stream",
     "text": [
      "Ram\n"
     ]
    }
   ],
   "source": [
    "Firstname= 'Ram'\n",
    "\n",
    "print(Firstname)"
   ]
  },
  {
   "cell_type": "code",
   "execution_count": 5,
   "id": "b3038719-07a5-46fc-80f8-780a55fff049",
   "metadata": {},
   "outputs": [
    {
     "name": "stdout",
     "output_type": "stream",
     "text": [
      "Ramesh\n"
     ]
    }
   ],
   "source": [
    "name1= 'Ramesh'\n",
    "\n",
    "print(name1)\n"
   ]
  },
  {
   "cell_type": "code",
   "execution_count": 6,
   "id": "5b1267d6-0b40-442f-83ad-420455b0d1c4",
   "metadata": {},
   "outputs": [
    {
     "ename": "SyntaxError",
     "evalue": "invalid syntax (2499006143.py, line 3)",
     "output_type": "error",
     "traceback": [
      "\u001b[1;36m  Cell \u001b[1;32mIn[6], line 3\u001b[1;36m\u001b[0m\n\u001b[1;33m    print(name@)\u001b[0m\n\u001b[1;37m               ^\u001b[0m\n\u001b[1;31mSyntaxError\u001b[0m\u001b[1;31m:\u001b[0m invalid syntax\n"
     ]
    }
   ],
   "source": [
    "name@= 'Ganesh'\n",
    "\n",
    "print(name@)"
   ]
  },
  {
   "cell_type": "code",
   "execution_count": null,
   "id": "174cbf1b-d68e-44a7-af60-1bf5a91fb936",
   "metadata": {},
   "outputs": [],
   "source": [
    "introduction to String Datatypes\n"
   ]
  },
  {
   "cell_type": "code",
   "execution_count": 7,
   "id": "de0e2322-d0cd-4a4b-a335-ea251d2d3a53",
   "metadata": {},
   "outputs": [
    {
     "name": "stdout",
     "output_type": "stream",
     "text": [
      "Ganesh\n"
     ]
    }
   ],
   "source": [
    "name ='Ganesh'\n",
    "\n",
    "print(name)"
   ]
  },
  {
   "cell_type": "code",
   "execution_count": 8,
   "id": "d4bd07f2-83bf-4ac7-b2ee-8eaf2f6c9593",
   "metadata": {},
   "outputs": [
    {
     "name": "stdout",
     "output_type": "stream",
     "text": [
      "Ganesh\n"
     ]
    }
   ],
   "source": [
    "name =\"Ganesh\"\n",
    "\n",
    "print(name)"
   ]
  },
  {
   "cell_type": "code",
   "execution_count": null,
   "id": "101b3bf1-b295-465f-ae25-e221532cd142",
   "metadata": {},
   "outputs": [],
   "source": [
    "Introduction to String Method"
   ]
  },
  {
   "cell_type": "code",
   "execution_count": 12,
   "id": "1986ba90-4a1a-4eba-b4ed-f1a24e070df0",
   "metadata": {},
   "outputs": [
    {
     "name": "stdout",
     "output_type": "stream",
     "text": [
      "Ganesh\n"
     ]
    }
   ],
   "source": [
    "name ='Ganesh'\n",
    "\n",
    "print(name.capitalize())"
   ]
  },
  {
   "cell_type": "code",
   "execution_count": 13,
   "id": "225099c8-f1de-4320-a926-cd6d4c2142b7",
   "metadata": {},
   "outputs": [
    {
     "name": "stdout",
     "output_type": "stream",
     "text": [
      "ganesh\n"
     ]
    }
   ],
   "source": [
    "name ='Ganesh'\n",
    "\n",
    "print(name.casefold())"
   ]
  },
  {
   "cell_type": "code",
   "execution_count": 14,
   "id": "2b7f5a83-e561-48de-a40f-631e7ac40f5f",
   "metadata": {},
   "outputs": [
    {
     "name": "stdout",
     "output_type": "stream",
     "text": [
      "GANESH\n"
     ]
    }
   ],
   "source": [
    "name ='Ganesh'\n",
    "\n",
    "print(name.upper())"
   ]
  },
  {
   "cell_type": "code",
   "execution_count": 15,
   "id": "b0b93f9b-1280-4bed-8adc-fb095db39910",
   "metadata": {},
   "outputs": [
    {
     "name": "stdout",
     "output_type": "stream",
     "text": [
      "Ganesh\n"
     ]
    }
   ],
   "source": [
    "name ='Ganesh'\n",
    "\n",
    "print(name.title())"
   ]
  },
  {
   "cell_type": "code",
   "execution_count": null,
   "id": "1f9d5c65-21ed-44c8-b40f-2c541f0f436d",
   "metadata": {},
   "outputs": [],
   "source": []
  }
 ],
 "metadata": {
  "kernelspec": {
   "display_name": "Python 3 (ipykernel)",
   "language": "python",
   "name": "python3"
  },
  "language_info": {
   "codemirror_mode": {
    "name": "ipython",
    "version": 3
   },
   "file_extension": ".py",
   "mimetype": "text/x-python",
   "name": "python",
   "nbconvert_exporter": "python",
   "pygments_lexer": "ipython3",
   "version": "3.11.7"
  }
 },
 "nbformat": 4,
 "nbformat_minor": 5
}
