{
 "cells": [
  {
   "cell_type": "code",
   "execution_count": null,
   "id": "db566961-7bbf-48ea-809e-07e8f35ac01a",
   "metadata": {},
   "outputs": [],
   "source": [
    "Introduction to list datatype :"
   ]
  },
  {
   "cell_type": "code",
   "execution_count": null,
   "id": "568a9eec-5545-47b6-a048-050578e0c898",
   "metadata": {},
   "outputs": [],
   "source": [
    "Definition: A list is a collection of items declared in a particular order.\n",
    "classification: it is classified as a mutable datatype\n",
    "How to define/declare the list datatype......[]"
   ]
  },
  {
   "cell_type": "code",
   "execution_count": null,
   "id": "a066de5d-b2ad-4ed9-a726-46fec20c3d49",
   "metadata": {},
   "outputs": [],
   "source": []
  },
  {
   "cell_type": "code",
   "execution_count": 2,
   "id": "4a648fb1-98e5-4975-a9b0-5a86ceafb38a",
   "metadata": {},
   "outputs": [],
   "source": [
    "students = ['Ganesh','shiva','ramesh','mahesh','shree']  # 0,1,2,3,4....."
   ]
  },
  {
   "cell_type": "code",
   "execution_count": 4,
   "id": "9a0e8539-8e1b-46f4-9e5b-08ba2ea5bf44",
   "metadata": {},
   "outputs": [
    {
     "name": "stdout",
     "output_type": "stream",
     "text": [
      "['Ganesh', 'shiva', 'ramesh', 'mahesh', 'shree']\n"
     ]
    }
   ],
   "source": [
    "print(students)"
   ]
  },
  {
   "cell_type": "code",
   "execution_count": 5,
   "id": "b17e078e-6f1e-457a-8e78-035969c09821",
   "metadata": {},
   "outputs": [
    {
     "data": {
      "text/plain": [
       "list"
      ]
     },
     "execution_count": 5,
     "metadata": {},
     "output_type": "execute_result"
    }
   ],
   "source": [
    "type(students)"
   ]
  },
  {
   "cell_type": "code",
   "execution_count": null,
   "id": "757c5ff6-b56b-43dc-81b0-9264655f209d",
   "metadata": {},
   "outputs": [],
   "source": [
    "Introduction to indexing : indexing will starting from value 0 onwords"
   ]
  },
  {
   "cell_type": "code",
   "execution_count": null,
   "id": "d28eac55-558b-407f-9d6f-3f451fefee8d",
   "metadata": {},
   "outputs": [],
   "source": [
    "#req: i want to get ramesh name in the output..........?"
   ]
  },
  {
   "cell_type": "code",
   "execution_count": 6,
   "id": "01266c45-df4e-4681-8cb9-dff4f2842815",
   "metadata": {},
   "outputs": [
    {
     "name": "stdout",
     "output_type": "stream",
     "text": [
      "ramesh\n"
     ]
    }
   ],
   "source": [
    "print(students[2])"
   ]
  },
  {
   "cell_type": "code",
   "execution_count": 7,
   "id": "616d57ea-509c-44b9-9497-748fd9af3d3d",
   "metadata": {},
   "outputs": [
    {
     "name": "stdout",
     "output_type": "stream",
     "text": [
      "Ramesh\n"
     ]
    }
   ],
   "source": [
    "print(students[2].title())"
   ]
  },
  {
   "cell_type": "code",
   "execution_count": null,
   "id": "dcce7899-4117-40e9-a26e-485a9288237f",
   "metadata": {},
   "outputs": [],
   "source": []
  },
  {
   "cell_type": "code",
   "execution_count": null,
   "id": "67363548-1336-458c-91f9-19bba4b06d86",
   "metadata": {},
   "outputs": [],
   "source": [
    "1. How to add new element to the list \n",
    "2. how to modify the element in the list\n",
    "3. how to delete the element in the list"
   ]
  },
  {
   "cell_type": "code",
   "execution_count": null,
   "id": "e58940c9-f13a-4993-b657-2454c79c9198",
   "metadata": {},
   "outputs": [],
   "source": [
    "# req: i want to add prashant to the list.....?"
   ]
  },
  {
   "cell_type": "code",
   "execution_count": 9,
   "id": "8cefea24-6c04-4e4d-9e5e-38bcc6d1ac91",
   "metadata": {},
   "outputs": [],
   "source": [
    "students.append('prashant')"
   ]
  },
  {
   "cell_type": "code",
   "execution_count": 10,
   "id": "218a64d3-ec1d-4bdb-a5a6-04f7a7bc68aa",
   "metadata": {},
   "outputs": [
    {
     "name": "stdout",
     "output_type": "stream",
     "text": [
      "['Ganesh', 'shiva', 'ramesh', 'mahesh', 'shree', 'prashant']\n"
     ]
    }
   ],
   "source": [
    "print(students)"
   ]
  },
  {
   "cell_type": "code",
   "execution_count": null,
   "id": "4df267db-a70f-4ecf-9f97-5f4966681732",
   "metadata": {},
   "outputs": [],
   "source": [
    "# req: i want to add yuvraj to the list.....?"
   ]
  },
  {
   "cell_type": "code",
   "execution_count": 12,
   "id": "46bd7bc6-1d29-4750-b782-76f773dd3a10",
   "metadata": {},
   "outputs": [],
   "source": [
    "students.append('yuvraj')"
   ]
  },
  {
   "cell_type": "code",
   "execution_count": 13,
   "id": "793f2e19-b581-4d09-b830-972197585041",
   "metadata": {},
   "outputs": [
    {
     "name": "stdout",
     "output_type": "stream",
     "text": [
      "['Ganesh', 'shiva', 'ramesh', 'mahesh', 'shree', 'prashant', 'yuvraj']\n"
     ]
    }
   ],
   "source": [
    "print(students)"
   ]
  },
  {
   "cell_type": "code",
   "execution_count": null,
   "id": "a59367ed-9119-446d-86c0-c9440051801f",
   "metadata": {},
   "outputs": [],
   "source": []
  },
  {
   "cell_type": "code",
   "execution_count": null,
   "id": "7e46b2bc-ee1c-45f0-83c3-2972a62b1dd4",
   "metadata": {},
   "outputs": [],
   "source": [
    "# req: i want to add ganpati to the above list ... in 2nd position"
   ]
  },
  {
   "cell_type": "code",
   "execution_count": 14,
   "id": "66c9ae84-23ec-4702-af1b-c577e5c9a58a",
   "metadata": {},
   "outputs": [],
   "source": [
    "students.insert(2,'ganpati')"
   ]
  },
  {
   "cell_type": "code",
   "execution_count": 15,
   "id": "911ea1cb-690f-49b7-a44b-c451478fd66a",
   "metadata": {},
   "outputs": [
    {
     "name": "stdout",
     "output_type": "stream",
     "text": [
      "['Ganesh', 'shiva', 'ganpati', 'ramesh', 'mahesh', 'shree', 'prashant', 'yuvraj']\n"
     ]
    }
   ],
   "source": [
    "print(students)"
   ]
  },
  {
   "cell_type": "code",
   "execution_count": 18,
   "id": "38983490-7321-4afb-b2eb-126dde13a15e",
   "metadata": {},
   "outputs": [
    {
     "name": "stdout",
     "output_type": "stream",
     "text": [
      "Ganpati\n"
     ]
    }
   ],
   "source": [
    "print(students[2].title())"
   ]
  },
  {
   "cell_type": "code",
   "execution_count": null,
   "id": "63f8e0c6-b7b4-4554-8db7-5b6bc18a21aa",
   "metadata": {},
   "outputs": [],
   "source": [
    "#Interview question : what is the diff btw append and insert in lists,can you pls explain?"
   ]
  },
  {
   "cell_type": "code",
   "execution_count": null,
   "id": "43998022-07bb-4b08-83da-5518b0e48706",
   "metadata": {},
   "outputs": [],
   "source": []
  },
  {
   "cell_type": "code",
   "execution_count": null,
   "id": "dfdfae6f-d564-4f11-acf2-bcff7b2d002b",
   "metadata": {},
   "outputs": [],
   "source": [
    "#req: i want to modify ramesh name to krishna"
   ]
  },
  {
   "cell_type": "code",
   "execution_count": 19,
   "id": "234aea24-a0ed-47b5-a2aa-b3884e659e94",
   "metadata": {},
   "outputs": [],
   "source": [
    "students[3]='krishna'"
   ]
  },
  {
   "cell_type": "code",
   "execution_count": 20,
   "id": "5d57ec9e-c130-4a63-a868-d40d8929d92e",
   "metadata": {},
   "outputs": [
    {
     "name": "stdout",
     "output_type": "stream",
     "text": [
      "['Ganesh', 'shiva', 'ganpati', 'krishna', 'mahesh', 'shree', 'prashant', 'yuvraj']\n"
     ]
    }
   ],
   "source": [
    "print(students)"
   ]
  },
  {
   "cell_type": "code",
   "execution_count": null,
   "id": "d91380f9-0523-4299-8dc5-92f6be4e96c6",
   "metadata": {},
   "outputs": [],
   "source": []
  },
  {
   "cell_type": "code",
   "execution_count": null,
   "id": "522fe1f9-08ed-4e5a-98a8-6931e72d2646",
   "metadata": {},
   "outputs": [],
   "source": [
    "# req: i want to delte shree name from the above list....?"
   ]
  },
  {
   "cell_type": "code",
   "execution_count": 21,
   "id": "35b62b8a-6269-4066-b613-622ead61a0e5",
   "metadata": {},
   "outputs": [],
   "source": [
    "del students[5]   # it will permenant delete"
   ]
  },
  {
   "cell_type": "code",
   "execution_count": 23,
   "id": "d1367ca7-f9ad-4931-998b-74fa4cad56fd",
   "metadata": {},
   "outputs": [
    {
     "name": "stdout",
     "output_type": "stream",
     "text": [
      "['Ganesh', 'shiva', 'ganpati', 'krishna', 'mahesh', 'prashant', 'yuvraj']\n"
     ]
    }
   ],
   "source": [
    "print(students)"
   ]
  },
  {
   "cell_type": "code",
   "execution_count": null,
   "id": "c2070d0d-d939-4946-b4f8-2ca8f41a91ef",
   "metadata": {},
   "outputs": [],
   "source": []
  },
  {
   "cell_type": "code",
   "execution_count": null,
   "id": "b75b81d3-6ccd-4e83-a28b-698343788131",
   "metadata": {},
   "outputs": [],
   "source": [
    "# temp deleting the element using pop method:\n",
    "\n",
    "pop will be by default deleting the list element in the list"
   ]
  },
  {
   "cell_type": "code",
   "execution_count": 24,
   "id": "a318c333-3b23-4fc9-92e5-79f240435634",
   "metadata": {},
   "outputs": [
    {
     "name": "stdout",
     "output_type": "stream",
     "text": [
      "['Ganesh', 'shiva', 'ganpati', 'krishna', 'mahesh', 'prashant', 'yuvraj']\n"
     ]
    }
   ],
   "source": [
    "print(students)"
   ]
  },
  {
   "cell_type": "code",
   "execution_count": 25,
   "id": "7912b6da-927a-46a4-8b2c-b6cf8f49f54d",
   "metadata": {},
   "outputs": [],
   "source": [
    "x = students.pop()"
   ]
  },
  {
   "cell_type": "code",
   "execution_count": 26,
   "id": "f730ab76-91b5-4f60-90eb-9420ec696db2",
   "metadata": {},
   "outputs": [
    {
     "name": "stdout",
     "output_type": "stream",
     "text": [
      "['Ganesh', 'shiva', 'ganpati', 'krishna', 'mahesh', 'prashant']\n"
     ]
    }
   ],
   "source": [
    "print(students)"
   ]
  },
  {
   "cell_type": "code",
   "execution_count": 27,
   "id": "d024c358-8c23-42e6-9ba5-773b071f0089",
   "metadata": {},
   "outputs": [
    {
     "name": "stdout",
     "output_type": "stream",
     "text": [
      "yuvraj\n"
     ]
    }
   ],
   "source": [
    "print(x)"
   ]
  },
  {
   "cell_type": "code",
   "execution_count": null,
   "id": "ed33417f-6ef3-4ee2-9db4-1c0539fdd74e",
   "metadata": {},
   "outputs": [],
   "source": [
    "Interview_question : whta is the diff btw delete and pop methods in a l;ist datatype"
   ]
  },
  {
   "cell_type": "code",
   "execution_count": null,
   "id": "27ecdb31-bd2f-400a-a10d-5d9eb919dab7",
   "metadata": {},
   "outputs": [],
   "source": [
    "# is used for the commenting the code "
   ]
  }
 ],
 "metadata": {
  "kernelspec": {
   "display_name": "Python 3 (ipykernel)",
   "language": "python",
   "name": "python3"
  },
  "language_info": {
   "codemirror_mode": {
    "name": "ipython",
    "version": 3
   },
   "file_extension": ".py",
   "mimetype": "text/x-python",
   "name": "python",
   "nbconvert_exporter": "python",
   "pygments_lexer": "ipython3",
   "version": "3.11.7"
  }
 },
 "nbformat": 4,
 "nbformat_minor": 5
}
