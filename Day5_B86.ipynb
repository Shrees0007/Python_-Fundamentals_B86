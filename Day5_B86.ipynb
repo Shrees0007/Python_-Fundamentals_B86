{
 "cells": [
  {
   "cell_type": "code",
   "execution_count": null,
   "id": "760efa7f-ed5e-40d6-b476-ffbe83c1a90a",
   "metadata": {},
   "outputs": [],
   "source": [
    "continuation with list datatype: "
   ]
  },
  {
   "cell_type": "code",
   "execution_count": null,
   "id": "0ab411bd-54a4-4f50-85c2-3b10649abb32",
   "metadata": {},
   "outputs": [],
   "source": [
    "organizing the list datatype : "
   ]
  },
  {
   "cell_type": "code",
   "execution_count": 1,
   "id": "61a8bd3b-e896-41fd-8b5d-da6d0c0d1663",
   "metadata": {},
   "outputs": [],
   "source": [
    "cars = ['maruti','kia','benz','suzuki','audi','bmw']"
   ]
  },
  {
   "cell_type": "code",
   "execution_count": 2,
   "id": "79e54602-9cce-4a97-af10-fc0b5b4dcb69",
   "metadata": {},
   "outputs": [
    {
     "name": "stdout",
     "output_type": "stream",
     "text": [
      "['maruti', 'kia', 'benz', 'suzuki', 'audi', 'bmw']\n"
     ]
    }
   ],
   "source": [
    "print(cars)"
   ]
  },
  {
   "cell_type": "code",
   "execution_count": 3,
   "id": "67292e36-acca-49e4-9160-d94e540a3216",
   "metadata": {},
   "outputs": [
    {
     "data": {
      "text/plain": [
       "list"
      ]
     },
     "execution_count": 3,
     "metadata": {},
     "output_type": "execute_result"
    }
   ],
   "source": [
    "type(cars)"
   ]
  },
  {
   "cell_type": "code",
   "execution_count": null,
   "id": "26e43d32-6c87-4aad-b5cf-7f7a5abbd5ed",
   "metadata": {},
   "outputs": [],
   "source": [
    "# req: I want to organize the list in alphabetical order... a to z"
   ]
  },
  {
   "cell_type": "code",
   "execution_count": null,
   "id": "642cb49d-9995-4f6c-bf03-a576583066a0",
   "metadata": {},
   "outputs": [],
   "source": [
    "There are to approaches :\n",
    "    1. temp approach ======= sorted=====we will be having the original order of the list created.\n",
    "    2. permanent approach ===== changes are implied permanently"
   ]
  },
  {
   "cell_type": "code",
   "execution_count": 5,
   "id": "a2f1b824-e401-4901-af85-47fd95cbbdc2",
   "metadata": {},
   "outputs": [
    {
     "name": "stdout",
     "output_type": "stream",
     "text": [
      "['audi', 'benz', 'bmw', 'kia', 'maruti', 'suzuki']\n"
     ]
    }
   ],
   "source": [
    "print(sorted(cars))"
   ]
  },
  {
   "cell_type": "code",
   "execution_count": 6,
   "id": "d523e9a3-ca09-4420-801a-7bd88cf76fcc",
   "metadata": {},
   "outputs": [
    {
     "name": "stdout",
     "output_type": "stream",
     "text": [
      "['maruti', 'kia', 'benz', 'suzuki', 'audi', 'bmw']\n"
     ]
    }
   ],
   "source": [
    "print(cars)   #original order"
   ]
  },
  {
   "cell_type": "code",
   "execution_count": 7,
   "id": "c0280e2a-66b7-4e7d-a96c-a0bfe342445a",
   "metadata": {},
   "outputs": [],
   "source": [
    "cars.sort()"
   ]
  },
  {
   "cell_type": "code",
   "execution_count": 8,
   "id": "46bda74b-5164-4383-b779-72c8b8315d0b",
   "metadata": {},
   "outputs": [
    {
     "name": "stdout",
     "output_type": "stream",
     "text": [
      "['audi', 'benz', 'bmw', 'kia', 'maruti', 'suzuki']\n"
     ]
    }
   ],
   "source": [
    "print(cars)"
   ]
  },
  {
   "cell_type": "code",
   "execution_count": null,
   "id": "b164c219-961e-4263-935f-b9d09ab6f3ef",
   "metadata": {},
   "outputs": [],
   "source": [
    "Interview Question: whats is the diff btw the sorted and sort method in a list...?"
   ]
  },
  {
   "cell_type": "code",
   "execution_count": null,
   "id": "3ce8ecb0-a2d5-4cfc-89bb-4c8d2168d009",
   "metadata": {},
   "outputs": [],
   "source": [
    "# req: I want to print the list in the reverse order......z to a"
   ]
  },
  {
   "cell_type": "code",
   "execution_count": 9,
   "id": "64329141-f23a-43c5-975e-59afaa0cf971",
   "metadata": {},
   "outputs": [],
   "source": [
    "cars.reverse()"
   ]
  },
  {
   "cell_type": "code",
   "execution_count": 10,
   "id": "11ea1b0b-2b7f-4661-9c95-9e210eb67041",
   "metadata": {},
   "outputs": [
    {
     "name": "stdout",
     "output_type": "stream",
     "text": [
      "['suzuki', 'maruti', 'kia', 'bmw', 'benz', 'audi']\n"
     ]
    }
   ],
   "source": [
    "print(cars)"
   ]
  },
  {
   "cell_type": "code",
   "execution_count": null,
   "id": "15259571-c979-4b6d-a075-87947d4b5091",
   "metadata": {},
   "outputs": [],
   "source": [
    "# req: I want a count of items present in the list"
   ]
  },
  {
   "cell_type": "code",
   "execution_count": 11,
   "id": "d07e9dd8-fd74-415f-a8ce-e2223693da11",
   "metadata": {},
   "outputs": [
    {
     "data": {
      "text/plain": [
       "6"
      ]
     },
     "execution_count": 11,
     "metadata": {},
     "output_type": "execute_result"
    }
   ],
   "source": [
    "len(cars)"
   ]
  },
  {
   "cell_type": "code",
   "execution_count": null,
   "id": "5844f1cf-ea84-45fc-a599-0fa4bf25eeb0",
   "metadata": {},
   "outputs": [],
   "source": []
  },
  {
   "cell_type": "code",
   "execution_count": null,
   "id": "29b8e9af-4d97-4132-8dd6-2c50f8afac49",
   "metadata": {},
   "outputs": [],
   "source": [
    "Introduction to slicing :"
   ]
  },
  {
   "cell_type": "code",
   "execution_count": null,
   "id": "d2f3e610-8960-4060-b5a4-396468ba77a2",
   "metadata": {},
   "outputs": [],
   "source": [
    "# general syntax of slicing :\n",
    "\n",
    "(start_value: stop value: step_count)\n",
    "\n",
    "Note: stop_value will be always exclusive, to include we have to increment the index by +1 "
   ]
  },
  {
   "cell_type": "code",
   "execution_count": null,
   "id": "3b20520d-d866-4189-965c-1e8e5891a8ee",
   "metadata": {},
   "outputs": [],
   "source": []
  },
  {
   "cell_type": "code",
   "execution_count": 13,
   "id": "86668dac-4735-48ad-937e-80ee7b941e3c",
   "metadata": {},
   "outputs": [],
   "source": [
    "students = ['shiva','ganesh','mahesh','krishna','abhishek']"
   ]
  },
  {
   "cell_type": "code",
   "execution_count": 14,
   "id": "36304f20-39bf-4e9b-bf61-5ac1a6401c36",
   "metadata": {},
   "outputs": [
    {
     "name": "stdout",
     "output_type": "stream",
     "text": [
      "['shiva', 'ganesh', 'mahesh', 'krishna', 'abhishek']\n"
     ]
    }
   ],
   "source": [
    "print(students)"
   ]
  },
  {
   "cell_type": "code",
   "execution_count": 15,
   "id": "163b5e64-ac62-4703-82f2-7f66d54a4218",
   "metadata": {},
   "outputs": [
    {
     "name": "stdout",
     "output_type": "stream",
     "text": [
      "['shiva', 'ganesh']\n"
     ]
    }
   ],
   "source": [
    "print(students[0:2])"
   ]
  },
  {
   "cell_type": "code",
   "execution_count": 17,
   "id": "f0c8ca44-00ab-4a61-b121-4716b1dc7f7a",
   "metadata": {},
   "outputs": [
    {
     "name": "stdout",
     "output_type": "stream",
     "text": [
      "['mahesh', 'krishna']\n"
     ]
    }
   ],
   "source": [
    "print(students[2:4])"
   ]
  },
  {
   "cell_type": "code",
   "execution_count": 18,
   "id": "adc6b7cd-4b86-426d-9b85-995c2c0a6428",
   "metadata": {},
   "outputs": [
    {
     "name": "stdout",
     "output_type": "stream",
     "text": [
      "['shiva', 'mahesh', 'abhishek']\n"
     ]
    }
   ],
   "source": [
    "print(students[0:5:2])"
   ]
  },
  {
   "cell_type": "code",
   "execution_count": 20,
   "id": "f0f0f994-6d54-4a8e-b4af-df80341f8c31",
   "metadata": {},
   "outputs": [],
   "source": [
    "students = ['shiva','ganesh','mahesh','krishna','abhishek','raghav','ajay','abhay']"
   ]
  },
  {
   "cell_type": "code",
   "execution_count": 21,
   "id": "11bbf949-593f-4ad6-aa47-67138f123130",
   "metadata": {},
   "outputs": [
    {
     "name": "stdout",
     "output_type": "stream",
     "text": [
      "['shiva', 'ganesh', 'mahesh', 'krishna', 'abhishek', 'raghav', 'ajay', 'abhay']\n"
     ]
    }
   ],
   "source": [
    "print(students)"
   ]
  },
  {
   "cell_type": "code",
   "execution_count": 22,
   "id": "60de63ad-5fca-49b3-b242-ee7350bff7bc",
   "metadata": {},
   "outputs": [
    {
     "name": "stdout",
     "output_type": "stream",
     "text": [
      "['shiva', 'krishna', 'ajay']\n"
     ]
    }
   ],
   "source": [
    "print(students[0:9:3])"
   ]
  },
  {
   "cell_type": "code",
   "execution_count": null,
   "id": "5d710ca8-1553-4470-be68-d68cfa4393eb",
   "metadata": {},
   "outputs": [],
   "source": []
  }
 ],
 "metadata": {
  "kernelspec": {
   "display_name": "Python 3 (ipykernel)",
   "language": "python",
   "name": "python3"
  },
  "language_info": {
   "codemirror_mode": {
    "name": "ipython",
    "version": 3
   },
   "file_extension": ".py",
   "mimetype": "text/x-python",
   "name": "python",
   "nbconvert_exporter": "python",
   "pygments_lexer": "ipython3",
   "version": "3.11.7"
  }
 },
 "nbformat": 4,
 "nbformat_minor": 5
}
